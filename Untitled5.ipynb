{
 "cells": [
  {
   "cell_type": "markdown",
   "id": "4dd3538b",
   "metadata": {},
   "source": [
    "### ML Models\n",
    "---\n",
    "\n",
    "- Linear Regression"
   ]
  },
  {
   "cell_type": "markdown",
   "id": "de509892",
   "metadata": {},
   "source": [
    "#### Data Processing\n",
    "---\n",
    "\n",
    "##### Data Cleaning\n",
    "- [https://www.geeksforgeeks.org/data-cleansing-introduction/](https://www.geeksforgeeks.org/data-cleansing-introduction/)\n",
    "\n",
    "##### Feature Scaling\n",
    "- [https://stackabuse.com/feature-scaling-data-with-scikit-learn-for-machine-learning-in-python/](https://stackabuse.com/feature-scaling-data-with-scikit-learn-for-machine-learning-in-python/)"
   ]
  },
  {
   "cell_type": "markdown",
   "id": "e02e9e41",
   "metadata": {},
   "source": [
    "pandas\n",
    "    - read_csv\n",
    "    - read_excel\n",
    "\n",
    "Open Anaconda shell/console\n",
    "\n",
    "pip install yellowbrick"
   ]
  },
  {
   "cell_type": "code",
   "execution_count": 1,
   "id": "a2fe476e",
   "metadata": {},
   "outputs": [],
   "source": [
    "import nltk"
   ]
  },
  {
   "cell_type": "code",
   "execution_count": 2,
   "id": "7849f53a",
   "metadata": {},
   "outputs": [
    {
     "name": "stdout",
     "output_type": "stream",
     "text": [
      "showing info https://raw.githubusercontent.com/nltk/nltk_data/gh-pages/index.xml\n"
     ]
    },
    {
     "data": {
      "text/plain": [
       "True"
      ]
     },
     "execution_count": 2,
     "metadata": {},
     "output_type": "execute_result"
    }
   ],
   "source": [
    "nltk.download()"
   ]
  },
  {
   "cell_type": "code",
   "execution_count": null,
   "id": "fa18734d",
   "metadata": {},
   "outputs": [],
   "source": [
    "nltk.donwload(\"punkt\")"
   ]
  },
  {
   "cell_type": "code",
   "execution_count": null,
   "id": "b52e3afa",
   "metadata": {},
   "outputs": [],
   "source": [
    "!python -m spacy download en_core_web_sm"
   ]
  },
  {
   "cell_type": "markdown",
   "id": "92749761",
   "metadata": {},
   "source": [
    "word2vector\n",
    "model.most_similar  ==> model.wv.most_similar"
   ]
  },
  {
   "cell_type": "code",
   "execution_count": null,
   "id": "a147dc6f",
   "metadata": {},
   "outputs": [],
   "source": []
  }
 ],
 "metadata": {
  "kernelspec": {
   "display_name": "Python 3 (ipykernel)",
   "language": "python",
   "name": "python3"
  },
  "language_info": {
   "codemirror_mode": {
    "name": "ipython",
    "version": 3
   },
   "file_extension": ".py",
   "mimetype": "text/x-python",
   "name": "python",
   "nbconvert_exporter": "python",
   "pygments_lexer": "ipython3",
   "version": "3.9.12"
  }
 },
 "nbformat": 4,
 "nbformat_minor": 5
}
